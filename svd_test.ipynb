{
 "cells": [
  {
   "cell_type": "code",
   "execution_count": 90,
   "metadata": {},
   "outputs": [],
   "source": [
    "import numpy as np\n",
    "import sklearn as sk"
   ]
  },
  {
   "cell_type": "code",
   "execution_count": 91,
   "metadata": {
    "scrolled": true
   },
   "outputs": [
    {
     "name": "stdout",
     "output_type": "stream",
     "text": [
      "vt: [[-0.42019675 -0.6507186   0.29396023 -0.17326432 -0.53250996]\n",
      " [-0.43350701 -0.33477108  0.16342582  0.07441585  0.81716233]\n",
      " [-0.44681727 -0.01882355 -0.63666966  0.60408511 -0.17243237]\n",
      " [-0.46012753  0.29712397 -0.39277908 -0.73836049  0.02341758]\n",
      " [-0.4734378   0.61307149  0.57206269  0.23312385 -0.13563758]]\n",
      "[[-0.42019675 -0.43350701 -0.44681727 -0.46012753 -0.4734378 ]\n",
      " [-0.6507186  -0.33477108 -0.01882355  0.29712397  0.61307149]\n",
      " [ 0.29396023  0.16342582 -0.63666966 -0.39277908  0.57206269]\n",
      " [-0.17326432  0.07441585  0.60408511 -0.73836049  0.23312385]\n",
      " [-0.53250996  0.81716233 -0.17243237  0.02341758 -0.13563758]]\n",
      "#以上通过 q = s * sig * vT 恢复 v:右奇异矩阵的特征向量\n",
      "[[ 1.  2.  3.  4.  5.]\n",
      " [ 6.  7.  8.  9. 10.]\n",
      " [11. 12. 13. 14. 15.]\n",
      " [16. 17. 18. 19. 20.]\n",
      " [21. 22. 23. 24. 25.]\n",
      " [26. 27. 28. 29. 30.]\n",
      " [31. 32. 33. 34. 35.]\n",
      " [36. 37. 38. 39. 40.]\n",
      " [41. 42. 43. 44. 45.]\n",
      " [46. 47. 48. 49. 50.]]\n"
     ]
    }
   ],
   "source": [
    "a = np.linspace(1, 50, 50)\n",
    "a = a.reshape(-1,5)\n",
    "rightmat = np.dot(a.T, a)\n",
    "uu,vv = np.linalg.eig(rightmat)\n",
    "#print('vv:', vv)\n",
    "u,s,vt = np.linalg.svd(a)\n",
    "print('vt:',vt.T)\n",
    "print(vt)\n",
    "#print(s)\n",
    "sig = np.diag(s)\n",
    "sig = np.vstack((sig, np.zeros((5,5))))\n",
    "#print(sig)\n",
    "q = np.dot(u,sig)\n",
    "q = np.dot(q, vt)\n",
    "#print(q)\n",
    "print('#以上通过 q = s * sig * vT 恢复 v:右奇异矩阵的特征向量')\n",
    "\n",
    "#print(u)\n",
    "sig = np.diag(s[:2])\n",
    "zipu = u[:, :2]\n",
    "zipv = vt[:2, :]\n",
    "zipq = np.dot(zipu,sig)\n",
    "zipq = np.dot(zipq, zipv)\n",
    "print(zipq)"
   ]
  },
  {
   "cell_type": "code",
   "execution_count": null,
   "metadata": {},
   "outputs": [],
   "source": []
  }
 ],
 "metadata": {
  "kernelspec": {
   "display_name": "Python 3",
   "language": "python",
   "name": "python3"
  },
  "language_info": {
   "codemirror_mode": {
    "name": "ipython",
    "version": 3
   },
   "file_extension": ".py",
   "mimetype": "text/x-python",
   "name": "python",
   "nbconvert_exporter": "python",
   "pygments_lexer": "ipython3",
   "version": "3.6.8"
  }
 },
 "nbformat": 4,
 "nbformat_minor": 2
}
